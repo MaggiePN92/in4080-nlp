{
 "cells": [
  {
   "cell_type": "markdown",
   "metadata": {
    "id": "8oKuvbLdLnfs"
   },
   "source": [
    "Ex. 1\n",
    "\n",
    "a. Conduct a similar experiment as the one mentioned above with the genres: news, religion, government, fiction, romance as conditions, and occurrences of the words: he, she, her, him, as events. Make a table of the conditional frequencies and deliver code and table. (Hint: Have you considered case folding?)\n",
    "\n",
    "conditions: news, religion, government, fiction, romance\n",
    "events: he, she, her, him"
   ]
  },
  {
   "cell_type": "code",
   "execution_count": 1,
   "metadata": {
    "colab": {
     "base_uri": "https://localhost:8080/"
    },
    "id": "zpDDfgdiLZni",
    "outputId": "d817fc6e-fcf6-4c21-8bd1-61f73f3d7b5e"
   },
   "outputs": [
    {
     "name": "stderr",
     "output_type": "stream",
     "text": [
      "[nltk_data] Downloading package brown to /root/nltk_data...\n",
      "[nltk_data]   Unzipping corpora/brown.zip.\n"
     ]
    },
    {
     "data": {
      "text/plain": [
       "True"
      ]
     },
     "execution_count": 1,
     "metadata": {},
     "output_type": "execute_result"
    }
   ],
   "source": [
    "import nltk\n",
    "nltk.download('brown')"
   ]
  },
  {
   "cell_type": "code",
   "execution_count": 2,
   "metadata": {
    "id": "P506h4V3Lusm"
   },
   "outputs": [],
   "source": [
    "from nltk.corpus import brown"
   ]
  },
  {
   "cell_type": "code",
   "execution_count": 3,
   "metadata": {
    "colab": {
     "base_uri": "https://localhost:8080/"
    },
    "id": "XvkYjFjULyfT",
    "outputId": "3e24fbfc-3543-49b5-b3d2-673959799bf2"
   },
   "outputs": [
    {
     "name": "stdout",
     "output_type": "stream",
     "text": [
      "             he  she  her  him \n",
      "   fiction 1308  425  413  382 \n",
      "government  169    1    3   26 \n",
      "      news  642   77  121   93 \n",
      "  religion  206   12    8   94 \n",
      "   romance 1068  728  680  340 \n"
     ]
    }
   ],
   "source": [
    "conds = [\"news\", \"religion\", \"government\", \"fiction\", \"romance\"]\n",
    "modals = [\"he\", \"she\", \"her\", \"him\"]\n",
    "\n",
    "cfd = nltk.ConditionalFreqDist(\n",
    "          (genre, word.lower())\n",
    "          for genre in conds\n",
    "          for word in brown.words(categories=genre))\n",
    "\n",
    "cfd.tabulate(samples=modals)"
   ]
  },
  {
   "cell_type": "markdown",
   "metadata": {
    "id": "IGM4OJ92LmGY"
   },
   "source": [
    "b. Answer in words what you see. How does gender vary with the genres?\n",
    "\n",
    "He is the most frequent word of the 4 words across all genres. Fiction and romance seem the be the two genres where usage of male and female pronouns are more balanced. Eventhough they still are very imbalanced. The biggest differences you see in government.\n",
    "\n",
    "This can mean that male characters are mentioned more often, and thus gets more attention in this sample. This is true even in the genre \"romance\" which I find suprising. The word her is used more often than him, but this is related to the fact that her also is a possessive pronoun."
   ]
  },
  {
   "cell_type": "markdown",
   "metadata": {
    "id": "WS0mOCrqL9VH"
   },
   "source": [
    "c. First, consider the complete Brown corpus. Construct a conditional frequency distribution, which uses gender as condition, and for each gender counts the occurrences of nominative forms (he, she) and objective forms (him, her). Report the results in a two by two table. Then calculate the relative frequency of her from she or her, and compare to the relative frequency of him from he or him. Report the numbers. Submit table, numbers and code you used."
   ]
  },
  {
   "cell_type": "code",
   "execution_count": 4,
   "metadata": {
    "colab": {
     "base_uri": "https://localhost:8080/"
    },
    "id": "QF2QoHT2L8i-",
    "outputId": "a5d34d8f-5492-4901-bc42-f15d377a9527"
   },
   "outputs": [
    {
     "name": "stdout",
     "output_type": "stream",
     "text": [
      "       nominative  objective \n",
      "female       1949       2885 \n",
      "  male       6566       2576 \n"
     ]
    }
   ],
   "source": [
    "\"\"\"\n",
    "modals = [\"he\", \"she\", \"her\", \"him\"]\n",
    "\n",
    "nominative = [\"he\", \"she\"]\n",
    "objecive = [\"him\", \"her\"]\n",
    "\n",
    "male = [\"he\", \"him\"]\n",
    "female = [\"she\", \"her\"]\n",
    "\n",
    "him -> male, objective\n",
    "her -> female, objective\n",
    "she -> female, nominative\n",
    ".\n",
    ".\n",
    "\"\"\"\n",
    "\n",
    "gender_form_map = {\n",
    "    \"he\" : (\"male\", \"nominative\"),\n",
    "    \"him\" : (\"male\", \"objective\"),\n",
    "    \"she\" : (\"female\", \"nominative\"),\n",
    "    \"her\" : (\"female\", \"objective\")\n",
    "}\n",
    "\n",
    "cfd = nltk.ConditionalFreqDist(\n",
    "          (gender_form_map[word.lower()][0], gender_form_map[word.lower()][1])\n",
    "          for word in brown.words() if word in gender_form_map.keys()\n",
    ")\n",
    "\n",
    "cfd.tabulate()"
   ]
  },
  {
   "cell_type": "code",
   "execution_count": 5,
   "metadata": {
    "colab": {
     "base_uri": "https://localhost:8080/"
    },
    "id": "sgMgC9OUMFwj",
    "outputId": "1ac97f67-4608-4981-9624-8a122868c390"
   },
   "outputs": [
    {
     "name": "stdout",
     "output_type": "stream",
     "text": [
      "0.676\n",
      "2.549\n"
     ]
    }
   ],
   "source": [
    "# ratio of  nominative: he, she to objective: him, her\n",
    "\n",
    "print( f'{cfd[\"female\"][\"nominative\"] / cfd[\"female\"][\"objective\"] :.3f}' )\n",
    "print( f'{cfd[\"male\"][\"nominative\"] / cfd[\"male\"][\"objective\"] :.3f}' )"
   ]
  },
  {
   "cell_type": "markdown",
   "metadata": {
    "id": "73iGYlD2MMj6"
   },
   "source": [
    "d. What could work is to use a tagged corpus, which separates between the two forms of her, i.e, if the corpus tags her as a personal pronoun differently from her as a possessive pronoun (determiner). The tagged Brown corpus does that. Use this to count the occurrences of she, he, her, him as personal pronouns and her, his, hers as possessive pronouns. See NLTK book, Ch. 5, Sec. 2, for the tagged Brown corpus. Report in a two-ways table."
   ]
  },
  {
   "cell_type": "code",
   "execution_count": 6,
   "metadata": {
    "colab": {
     "base_uri": "https://localhost:8080/"
    },
    "id": "aQ1mY1AwMKZs",
    "outputId": "063ea714-60b5-43a6-a8f5-fec2a11eb387"
   },
   "outputs": [
    {
     "name": "stderr",
     "output_type": "stream",
     "text": [
      "[nltk_data] Downloading package universal_tagset to /root/nltk_data...\n",
      "[nltk_data]   Unzipping taggers/universal_tagset.zip.\n"
     ]
    }
   ],
   "source": [
    "nltk.download('universal_tagset')\n",
    "brown_uni = brown.tagged_words(tagset=\"universal\")"
   ]
  },
  {
   "cell_type": "code",
   "execution_count": 7,
   "metadata": {
    "colab": {
     "base_uri": "https://localhost:8080/"
    },
    "id": "v1hTFCzDMP7t",
    "outputId": "7aa50801-3b07-409a-d234-3372bfd87eba"
   },
   "outputs": [
    {
     "name": "stdout",
     "output_type": "stream",
     "text": [
      "      DET PRON \n",
      "  he    0 9546 \n",
      " her 1929 1107 \n",
      "hers    0   16 \n",
      " him    0 2619 \n",
      " his 6957   37 \n",
      " she    0 2860 \n"
     ]
    }
   ],
   "source": [
    "prons = [\"her\", \"she\", \"he\", \"him\", \"his\", \"hers\"]\n",
    "tags = [\"DET\", \"PRON\"]\n",
    "\n",
    "cfd = nltk.ConditionalFreqDist(\n",
    "          (word.lower(), tag)\n",
    "          for word, tag in brown_uni if word.lower() in prons and tag in tags\n",
    ")\n",
    "\n",
    "cfd.tabulate()"
   ]
  },
  {
   "cell_type": "markdown",
   "metadata": {
    "id": "xz9JEAOSMfZE"
   },
   "source": [
    "e. We can now correct the numbers from point (b) above. How large percentage of the feminine personal pronoun occurs in nominative form and in objective form? What are the comparable percentages for the masculine personal pronoun?\n",
    "\n",
    "\n"
   ]
  },
  {
   "cell_type": "code",
   "execution_count": 8,
   "metadata": {
    "colab": {
     "base_uri": "https://localhost:8080/"
    },
    "id": "Hny2k10UMXoK",
    "outputId": "4a1e9247-ab11-4c92-c700-7a57f0271b0b"
   },
   "outputs": [
    {
     "name": "stdout",
     "output_type": "stream",
     "text": [
      "Male objective/nominative = 27.44 %.\n"
     ]
    }
   ],
   "source": [
    "print(f\"Male objective/nominative = {( cfd['him']['PRON'] / cfd['he']['PRON']) * 100 :.2f} %.\") "
   ]
  },
  {
   "cell_type": "code",
   "execution_count": 9,
   "metadata": {
    "colab": {
     "base_uri": "https://localhost:8080/"
    },
    "id": "w-vg4NuRMh13",
    "outputId": "c5bd5b5e-66c9-432f-cb7d-42b277131868"
   },
   "outputs": [
    {
     "name": "stdout",
     "output_type": "stream",
     "text": [
      "Female objective/nominative = 38.71 %.\n"
     ]
    }
   ],
   "source": [
    "print(f\"Female objective/nominative = {( cfd['her']['PRON'] / cfd['she']['PRON'] ) * 100 :.2f} %.\") "
   ]
  },
  {
   "cell_type": "markdown",
   "metadata": {
    "id": "fV8xBySkMmHR"
   },
   "source": [
    "f. Illustrate the numbers from (d) with a bar chart."
   ]
  },
  {
   "cell_type": "code",
   "execution_count": 10,
   "metadata": {
    "id": "Wdveq6PMMjgC"
   },
   "outputs": [],
   "source": [
    "import matplotlib.pyplot as plt\n",
    "import numpy as np"
   ]
  },
  {
   "cell_type": "code",
   "execution_count": 11,
   "metadata": {
    "colab": {
     "base_uri": "https://localhost:8080/",
     "height": 283
    },
    "id": "c8QMk80FMpVI",
    "outputId": "99002b36-bf0c-407d-d565-0df13ad289a4"
   },
   "outputs": [
    {
     "data": {
      "image/png": "[encoded data removed]",
      "text/plain": [
       "<Figure size 432x288 with 1 Axes>"
      ]
     },
     "metadata": {
      "needs_background": "light"
     },
     "output_type": "display_data"
    }
   ],
   "source": [
    "words = ['his','he','him','she','her','hers']\n",
    "prons = [cfd[word][\"PRON\"] for word in words]\n",
    "dets = [cfd[word][\"DET\"] for word in words]\n",
    "X_axis = np.arange(len(words))\n",
    "\n",
    "plt.bar(X_axis - 0.2, prons, width=0.3, color='b', align='center', label=\"Pronouns\")\n",
    "plt.bar(X_axis + 0.2, dets, width=0.3, color='r', align='center', label=\"Det.\")\n",
    "\n",
    "plt.xticks(X_axis, words)\n",
    "plt.xlabel(\"Words\")\n",
    "plt.ylabel(\"Count\")\n",
    "plt.legend()\n",
    "plt.show()"
   ]
  },
  {
   "cell_type": "markdown",
   "metadata": {
    "id": "aEHgqYTHMv6M"
   },
   "source": [
    "g. Write a short essay (200-300 words) where you discuss the consequences of your findings. Consider in particular, why do you think the masculine pronoun is more frequent than the feminine pronoun? If you find that the there is a different distribution between nominative and objective forms for the masculine and the feminine pronouns, why do you think that is the case? Do you see any consequences for the development of language technology in general, and for language technology derived from example texts in particular? Make use of what you know about the Brown corpus.\n",
    "\n",
    "Answer:\n",
    "Unsurprisingly the male pronoun is more frequent than the female. The difference in usage is quite substantial. When we work with Brown corpus, we should keep in mind that this is an old corpus from the 1960’s. Women rights where less than now, and women more often stayed at home taking care of children and the home. A direct consequence of this is less usage of the female pronouns in the categories represented, such as government, religion and news. Although the corpus is old, I still believe there would an imbalance in the usage of pronouns if the corpus was made today. But perhaps not as great.\n",
    "\n",
    "She and he is used more frequent than their objective forms her and him. But the ratio of her too she is greater than the male counterpart. The nominative form (she and he) typically refers to the subject of the sentence. While the objective forms (her and him) points to the object. Therefore, we can say that in the Brown corpus, looking at pronouns, females are more often the object in a sentence relative to being the subject compared to males. We could say that females are relatively less talked of as the main antagonist in the text.\n",
    "\n",
    "A big problem when developing language technology is biased text. This is the case with the Brown corpus. If we where to for example generate text based on this corpus males would more often than females be presented as the main antagonist. We would also expect other negative tendencies that where present in the 1960’s to be reflected in the generated text, such as racism and homophobic tendencies."
   ]
  },
  {
   "cell_type": "markdown",
   "metadata": {
    "id": "l4FJRiEtM3wW"
   },
   "source": [
    "Ex. 2\n",
    "\n",
    "a. First, you need to get hold of the text. You can download it from project Gutenberg as explained in section 1 in chapter 3 in the NLTK book. You find it here: https://www.gutenberg.org/files/74/74-0.txt"
   ]
  },
  {
   "cell_type": "code",
   "execution_count": 12,
   "metadata": {
    "id": "Mywsi5gANA1q"
   },
   "outputs": [],
   "source": [
    "from urllib import request\n",
    "\n",
    "url = \"https://www.gutenberg.org/files/74/74-0.txt\"\n",
    "response = request.urlopen(url)\n",
    "raw = response.read().decode('utf8')"
   ]
  },
  {
   "cell_type": "markdown",
   "metadata": {
    "id": "CqBISrFnM_c-"
   },
   "source": [
    "b. Then you have to do some clean up. The downloaded text contains a preamble and a long appendix about the Gutenberg project and copyrights that should be removed."
   ]
  },
  {
   "cell_type": "code",
   "execution_count": 13,
   "metadata": {
    "id": "PLM9aU3BMtKD"
   },
   "outputs": [],
   "source": [
    "start_idx = raw.find(\"HARTFORD, 1876.\") + len(\"HARTFORD, 1876.\")\n",
    "end_idx = raw.find(\"*** END OF THE PROJECT GUTENBERG EBOOK THE ADVENTURES OF TOM SAWYER ***\")\n",
    "\n",
    "corpus = raw[start_idx:end_idx]"
   ]
  },
  {
   "cell_type": "markdown",
   "metadata": {
    "id": "m7a0WZk2NKLQ"
   },
   "source": [
    "c. You can then extract the words. We are interested in the words used in the book and their distribution. We are, e.g. not interested in punctuation marks. Should you case fold the text? Explain the steps you take here and in point (b) above.\n",
    "\n",
    "I find the indices of where the text starts and ends. I use the indicies to slice the text. Now I have the body of the book stored in a variable. Then I perform a series of actions. I remove occourences\n",
    "\n",
    "I replace all except charachters and numbers with whitespace using regex. This might cause some problems for decimals, but I don't think this will be important.\n",
    "I casefold the text and remove leading and trailing whitespace.\n",
    "I replace multiple whitespaces with a single whitespace."
   ]
  },
  {
   "cell_type": "code",
   "execution_count": 18,
   "metadata": {
    "id": "Mxg5gseANIBB"
   },
   "outputs": [],
   "source": [
    "import re\n",
    "import pandas as pd"
   ]
  },
  {
   "cell_type": "code",
   "execution_count": 15,
   "metadata": {
    "id": "6tsT69Y_NRz7"
   },
   "outputs": [],
   "source": [
    "corpus_regex = re.sub(r'[^\\w]', ' ', corpus).lower().strip()\n",
    "corpus_regex = re.sub(' +', ' ', corpus_regex)"
   ]
  },
  {
   "cell_type": "code",
   "execution_count": 16,
   "metadata": {
    "id": "hoI2MZSTNTpy"
   },
   "outputs": [],
   "source": [
    "gutenberg_freqdist = nltk.FreqDist(corpus_regex.split())"
   ]
  },
  {
   "cell_type": "code",
   "execution_count": 17,
   "metadata": {
    "colab": {
     "base_uri": "https://localhost:8080/"
    },
    "id": "AdZ5TYT3NVoq",
    "outputId": "7677a8c6-0e05-425a-ada8-e9fc0ad5be8c"
   },
   "outputs": [
    {
     "data": {
      "text/plain": [
       "[('the', 3700),\n",
       " ('and', 3105),\n",
       " ('a', 1864),\n",
       " ('to', 1715),\n",
       " ('of', 1435),\n",
       " ('it', 1315),\n",
       " ('he', 1248),\n",
       " ('was', 1166),\n",
       " ('that', 1023),\n",
       " ('i', 1012),\n",
       " ('in', 941),\n",
       " ('you', 876),\n",
       " ('s', 845),\n",
       " ('his', 815),\n",
       " ('tom', 773),\n",
       " ('t', 667),\n",
       " ('with', 646),\n",
       " ('they', 614),\n",
       " ('but', 581),\n",
       " ('for', 525)]"
      ]
     },
     "execution_count": 17,
     "metadata": {},
     "output_type": "execute_result"
    }
   ],
   "source": [
    "gutenberg_freqdist.most_common(20)"
   ]
  },
  {
   "cell_type": "markdown",
   "metadata": {
    "id": "8dJUSQcQNZ7u"
   },
   "source": [
    "e. Consider the frequencies of frequencies. How many words occur only 1 time? How many words occur n times, etc. for n = 1, 2, …, 10; how many words have between 11 and 50 occurrences; how many have 51-100 occurrences; and how many words have more than 100 occurrences? Report in a table!"
   ]
  },
  {
   "cell_type": "code",
   "execution_count": 20,
   "metadata": {
    "id": "lhSV0uYTNXvD"
   },
   "outputs": [],
   "source": [
    "freq_of_freq = nltk.FreqDist([count for _, count in gutenberg_freqdist.most_common()])\n",
    "\n",
    "def sum_of_range(r, freq_of_freq):\n",
    "  sum_of_r = 0\n",
    "  for i in r:\n",
    "    sum_of_r += freq_of_freq[i]\n",
    "  return sum_of_r\n",
    "\n",
    "d = {}\n",
    "\n",
    "for i in range(1, 11):\n",
    "  d[str(i)] = str(freq_of_freq[i])\n",
    "\n",
    "d[\"11-50\"] = str(sum_of_range(range(11,51), freq_of_freq))\n",
    "d[\"51-100\"] = str(sum_of_range(range(51,101), freq_of_freq))\n",
    "d[\"101 - max\"] = str(sum_of_range(range(101, max(freq_of_freq) + 1),\n",
    "                                  freq_of_freq))\n"
   ]
  },
  {
   "cell_type": "code",
   "execution_count": 21,
   "metadata": {
    "colab": {
     "base_uri": "https://localhost:8080/",
     "height": 81
    },
    "id": "k2I6Se74Nnx9",
    "outputId": "ee2d564e-eafd-4907-ae3c-38883290fe6c"
   },
   "outputs": [
    {
     "data": {
      "text/html": [
       "\n",
       "  <div id=\"df-d14c37bb-1f78-4073-905a-1fac6a1e8feb\">\n",
       "    <div class=\"colab-df-container\">\n",
       "      <div>\n",
       "<style scoped>\n",
       "    .dataframe tbody tr th:only-of-type {\n",
       "        vertical-align: middle;\n",
       "    }\n",
       "\n",
       "    .dataframe tbody tr th {\n",
       "        vertical-align: top;\n",
       "    }\n",
       "\n",
       "    .dataframe thead th {\n",
       "        text-align: right;\n",
       "    }\n",
       "</style>\n",
       "<table border=\"1\" class=\"dataframe\">\n",
       "  <thead>\n",
       "    <tr style=\"text-align: right;\">\n",
       "      <th></th>\n",
       "      <th>1</th>\n",
       "      <th>2</th>\n",
       "      <th>3</th>\n",
       "      <th>4</th>\n",
       "      <th>5</th>\n",
       "      <th>6</th>\n",
       "      <th>7</th>\n",
       "      <th>8</th>\n",
       "      <th>9</th>\n",
       "      <th>10</th>\n",
       "      <th>11-50</th>\n",
       "      <th>51-100</th>\n",
       "      <th>101 - max</th>\n",
       "    </tr>\n",
       "  </thead>\n",
       "  <tbody>\n",
       "    <tr>\n",
       "      <th>n</th>\n",
       "      <td>3585</td>\n",
       "      <td>1181</td>\n",
       "      <td>616</td>\n",
       "      <td>378</td>\n",
       "      <td>224</td>\n",
       "      <td>174</td>\n",
       "      <td>166</td>\n",
       "      <td>120</td>\n",
       "      <td>85</td>\n",
       "      <td>87</td>\n",
       "      <td>499</td>\n",
       "      <td>84</td>\n",
       "      <td>110</td>\n",
       "    </tr>\n",
       "  </tbody>\n",
       "</table>\n",
       "</div>\n",
       "      <button class=\"colab-df-convert\" onclick=\"convertToInteractive('df-d14c37bb-1f78-4073-905a-1fac6a1e8feb')\"\n",
       "              title=\"Convert this dataframe to an interactive table.\"\n",
       "              style=\"display:none;\">\n",
       "        \n",
       "  <svg xmlns=\"http://www.w3.org/2000/svg\" height=\"24px\"viewBox=\"0 0 24 24\"\n",
       "       width=\"24px\">\n",
       "    <path d=\"M0 0h24v24H0V0z\" fill=\"none\"/>\n",
       "    <path d=\"M18.56 5.44l.94 2.06.94-2.06 2.06-.94-2.06-.94-.94-2.06-.94 2.06-2.06.94zm-11 1L8.5 8.5l.94-2.06 2.06-.94-2.06-.94L8.5 2.5l-.94 2.06-2.06.94zm10 10l.94 2.06.94-2.06 2.06-.94-2.06-.94-.94-2.06-.94 2.06-2.06.94z\"/><path d=\"M17.41 7.96l-1.37-1.37c-.4-.4-.92-.59-1.43-.59-.52 0-1.04.2-1.43.59L10.3 9.45l-7.72 7.72c-.78.78-.78 2.05 0 2.83L4 21.41c.39.39.9.59 1.41.59.51 0 1.02-.2 1.41-.59l7.78-7.78 2.81-2.81c.8-.78.8-2.07 0-2.86zM5.41 20L4 18.59l7.72-7.72 1.47 1.35L5.41 20z\"/>\n",
       "  </svg>\n",
       "      </button>\n",
       "      \n",
       "  <style>\n",
       "    .colab-df-container {\n",
       "      display:flex;\n",
       "      flex-wrap:wrap;\n",
       "      gap: 12px;\n",
       "    }\n",
       "\n",
       "    .colab-df-convert {\n",
       "      background-color: #E8F0FE;\n",
       "      border: none;\n",
       "      border-radius: 50%;\n",
       "      cursor: pointer;\n",
       "      display: none;\n",
       "      fill: #1967D2;\n",
       "      height: 32px;\n",
       "      padding: 0 0 0 0;\n",
       "      width: 32px;\n",
       "    }\n",
       "\n",
       "    .colab-df-convert:hover {\n",
       "      background-color: #E2EBFA;\n",
       "      box-shadow: 0px 1px 2px rgba(60, 64, 67, 0.3), 0px 1px 3px 1px rgba(60, 64, 67, 0.15);\n",
       "      fill: #174EA6;\n",
       "    }\n",
       "\n",
       "    [theme=dark] .colab-df-convert {\n",
       "      background-color: #3B4455;\n",
       "      fill: #D2E3FC;\n",
       "    }\n",
       "\n",
       "    [theme=dark] .colab-df-convert:hover {\n",
       "      background-color: #434B5C;\n",
       "      box-shadow: 0px 1px 3px 1px rgba(0, 0, 0, 0.15);\n",
       "      filter: drop-shadow(0px 1px 2px rgba(0, 0, 0, 0.3));\n",
       "      fill: #FFFFFF;\n",
       "    }\n",
       "  </style>\n",
       "\n",
       "      <script>\n",
       "        const buttonEl =\n",
       "          document.querySelector('#df-d14c37bb-1f78-4073-905a-1fac6a1e8feb button.colab-df-convert');\n",
       "        buttonEl.style.display =\n",
       "          google.colab.kernel.accessAllowed ? 'block' : 'none';\n",
       "\n",
       "        async function convertToInteractive(key) {\n",
       "          const element = document.querySelector('#df-d14c37bb-1f78-4073-905a-1fac6a1e8feb');\n",
       "          const dataTable =\n",
       "            await google.colab.kernel.invokeFunction('convertToInteractive',\n",
       "                                                     [key], {});\n",
       "          if (!dataTable) return;\n",
       "\n",
       "          const docLinkHtml = 'Like what you see? Visit the ' +\n",
       "            '<a target=\"_blank\" href=https://colab.research.google.com/notebooks/data_table.ipynb>data table notebook</a>'\n",
       "            + ' to learn more about interactive tables.';\n",
       "          element.innerHTML = '';\n",
       "          dataTable['output_type'] = 'display_data';\n",
       "          await google.colab.output.renderOutput(dataTable, element);\n",
       "          const docLink = document.createElement('div');\n",
       "          docLink.innerHTML = docLinkHtml;\n",
       "          element.appendChild(docLink);\n",
       "        }\n",
       "      </script>\n",
       "    </div>\n",
       "  </div>\n",
       "  "
      ],
      "text/plain": [
       "      1     2    3    4    5    6    7    8   9  10 11-50 51-100 101 - max\n",
       "n  3585  1181  616  378  224  174  166  120  85  87   499     84       110"
      ]
     },
     "execution_count": 21,
     "metadata": {},
     "output_type": "execute_result"
    }
   ],
   "source": [
    "table = pd.DataFrame(index = d.keys(), columns = [\"n\"], data = d.values())\n",
    "table.T"
   ]
  },
  {
   "cell_type": "markdown",
   "metadata": {
    "id": "YeGqyxVvNwI1"
   },
   "source": [
    "f. We order the words by their frequencies, the most frequent word first. Let r be the frequency rank for each word and n its frequency. Hence, the most frequent word gets rank 1, the second most frequent word gets rank two, and so on. According to Zipf’s law, rn should be nearly constant. Calculate rn for the 20 most frequent words and report in a table. How well does this fit Zipf’s law? Answer in text."
   ]
  },
  {
   "cell_type": "code",
   "execution_count": 22,
   "metadata": {
    "colab": {
     "base_uri": "https://localhost:8080/"
    },
    "id": "uXIXlpSNNsxe",
    "outputId": "bfd5f708-1257-4f05-9518-80b659b218a4"
   },
   "outputs": [
    {
     "data": {
      "text/plain": [
       "[3700,\n",
       " 6210,\n",
       " 5592,\n",
       " 6860,\n",
       " 7175,\n",
       " 7890,\n",
       " 8736,\n",
       " 9328,\n",
       " 9207,\n",
       " 10120,\n",
       " 10351,\n",
       " 10512,\n",
       " 10985,\n",
       " 11410,\n",
       " 11595,\n",
       " 10672,\n",
       " 10982,\n",
       " 11052,\n",
       " 11039,\n",
       " 10500]"
      ]
     },
     "execution_count": 22,
     "metadata": {},
     "output_type": "execute_result"
    }
   ],
   "source": [
    "most_common_20 = gutenberg_freqdist.most_common(20)\n",
    "\n",
    "def zipfs_law(word_count):\n",
    "  rns = []\n",
    "  rank = 1\n",
    "  for w, c in word_count:\n",
    "    rns.append(c*rank)\n",
    "    rank += 1\n",
    "  return rns\n",
    "\n",
    "zipfs_law(most_common_20)"
   ]
  },
  {
   "cell_type": "markdown",
   "metadata": {
    "id": "M2Af_qfEN5hP"
   },
   "source": [
    "Zipf's law doesn't seem to fit very well for the 6-7 highest ranked words, but fore the remaining it seems to fit ok."
   ]
  },
  {
   "cell_type": "markdown",
   "metadata": {
    "id": "hyJZMN7kN8Zf"
   },
   "source": [
    "g. Try to plot the rank against frequency for all words (not only the 20 most frequent ones). First, make a plot where you use linear scale on the axes. Then try to make a plot similarly to the Wikipedia figure below with logarithmic scales at both axes. Logarithms are available in numpy, using functions functions like log(), for the natural logarithm, and log2() for the base-2 logarithm. An alternative to using one of these functions is to explore loglog() plotting from matplotlib.pyplot directly."
   ]
  },
  {
   "cell_type": "code",
   "execution_count": 23,
   "metadata": {
    "id": "fONImE55N1ST"
   },
   "outputs": [],
   "source": [
    "import matplotlib.pyplot as plt"
   ]
  },
  {
   "cell_type": "code",
   "execution_count": 24,
   "metadata": {
    "colab": {
     "base_uri": "https://localhost:8080/",
     "height": 285
    },
    "id": "pdmcIWqQN_nc",
    "outputId": "67636ee7-d69d-4b88-d76c-7efa1ba2cff7"
   },
   "outputs": [
    {
     "data": {
      "image/png": "[encoded data removed]",
      "text/plain": [
       "<Figure size 432x288 with 1 Axes>"
      ]
     },
     "metadata": {
      "needs_background": "light"
     },
     "output_type": "display_data"
    }
   ],
   "source": [
    "rns = zipfs_law(gutenberg_freqdist.most_common())\n",
    "ranks = [i for i in range(1, len(rns) +1 )]\n",
    "\n",
    "plt.loglog(ranks, rns)\n",
    "plt.title(\"log-log Zipf's law\")\n",
    "plt.show()\n",
    "plt.close()"
   ]
  },
  {
   "cell_type": "code",
   "execution_count": 25,
   "metadata": {
    "colab": {
     "base_uri": "https://localhost:8080/",
     "height": 281
    },
    "id": "AMJQUrFTOCbG",
    "outputId": "b2d8dbef-590b-46cd-9d29-a940e912bf12"
   },
   "outputs": [
    {
     "data": {
      "image/png": "[encoded data removed]",
      "text/plain": [
       "<Figure size 432x288 with 1 Axes>"
      ]
     },
     "metadata": {
      "needs_background": "light"
     },
     "output_type": "display_data"
    }
   ],
   "source": [
    "plt.plot(ranks, rns)\n",
    "plt.title(\"Linear Zipf's law\")\n",
    "plt.show()\n",
    "plt.close()"
   ]
  }
 ],
 "metadata": {
  "colab": {
   "provenance": []
  },
  "kernelspec": {
   "display_name": "Python 3 (ipykernel)",
   "language": "python",
   "name": "python3"
  },
  "language_info": {
   "codemirror_mode": {
    "name": "ipython",
    "version": 3
   },
   "file_extension": ".py",
   "mimetype": "text/x-python",
   "name": "python",
   "nbconvert_exporter": "python",
   "pygments_lexer": "ipython3",
   "version": "3.10.4"
  }
 },
 "nbformat": 4,
 "nbformat_minor": 1
}
